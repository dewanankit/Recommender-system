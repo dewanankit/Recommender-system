{
 "cells": [
  {
   "cell_type": "code",
   "execution_count": 45,
   "metadata": {
    "collapsed": true
   },
   "outputs": [],
   "source": [
    "import graphlab\n",
    "import graphlab.aggregate as agg"
   ]
  },
  {
   "cell_type": "code",
   "execution_count": 11,
   "metadata": {
    "collapsed": false
   },
   "outputs": [
    {
     "data": {
      "text/html": [
       "<pre>Finished parsing file C:\\Users\\andewan\\machine_learning\\RecommenderSystems\\Non_pers\\data\\users_set.dat</pre>"
      ],
      "text/plain": [
       "Finished parsing file C:\\Users\\andewan\\machine_learning\\RecommenderSystems\\Non_pers\\data\\users_set.dat"
      ]
     },
     "metadata": {},
     "output_type": "display_data"
    },
    {
     "data": {
      "text/html": [
       "<pre>Parsing completed. Parsed 2017 lines in 0.032601 secs.</pre>"
      ],
      "text/plain": [
       "Parsing completed. Parsed 2017 lines in 0.032601 secs."
      ]
     },
     "metadata": {},
     "output_type": "display_data"
    }
   ],
   "source": [
    "users = graphlab.SFrame.read_csv('./data/users_set.dat',\n",
    "                                delimiter = '|',\n",
    "                                column_type_hints = [int,str])"
   ]
  },
  {
   "cell_type": "code",
   "execution_count": 12,
   "metadata": {
    "collapsed": false
   },
   "outputs": [
    {
     "data": {
      "text/html": [
       "<pre>Finished parsing file C:\\Users\\andewan\\machine_learning\\RecommenderSystems\\Non_pers\\data\\ratings.dat</pre>"
      ],
      "text/plain": [
       "Finished parsing file C:\\Users\\andewan\\machine_learning\\RecommenderSystems\\Non_pers\\data\\ratings.dat"
      ]
     },
     "metadata": {},
     "output_type": "display_data"
    },
    {
     "data": {
      "text/html": [
       "<pre>Parsing completed. Parsed 2773 lines in 0.0246 secs.</pre>"
      ],
      "text/plain": [
       "Parsing completed. Parsed 2773 lines in 0.0246 secs."
      ]
     },
     "metadata": {},
     "output_type": "display_data"
    }
   ],
   "source": [
    "ratings = graphlab.SFrame.read_csv('./data/ratings.dat',\n",
    "                                delimiter = '|',\n",
    "                                column_type_hints = [int,int,float])"
   ]
  },
  {
   "cell_type": "code",
   "execution_count": 16,
   "metadata": {
    "collapsed": false
   },
   "outputs": [
    {
     "data": {
      "text/html": [
       "<pre>Finished parsing file C:\\Users\\andewan\\machine_learning\\RecommenderSystems\\Non_pers\\data\\cursos.dat</pre>"
      ],
      "text/plain": [
       "Finished parsing file C:\\Users\\andewan\\machine_learning\\RecommenderSystems\\Non_pers\\data\\cursos.dat"
      ]
     },
     "metadata": {},
     "output_type": "display_data"
    },
    {
     "data": {
      "text/html": [
       "<pre>Parsing completed. Parsed 5597 lines in 0.021001 secs.</pre>"
      ],
      "text/plain": [
       "Parsing completed. Parsed 5597 lines in 0.021001 secs."
      ]
     },
     "metadata": {},
     "output_type": "display_data"
    }
   ],
   "source": [
    "courses = graphlab.SFrame.read_csv('./data/cursos.dat',\n",
    "                                delimiter = '|',\n",
    "                                column_type_hints = [int,str,float,str,str,str,str])"
   ]
  },
  {
   "cell_type": "code",
   "execution_count": 22,
   "metadata": {
    "collapsed": false
   },
   "outputs": [
    {
     "name": "stdout",
     "output_type": "stream",
     "text": [
      "+---------+---------------------------+\n",
      "| user_id |          username         |\n",
      "+---------+---------------------------+\n",
      "|    1    |      patrickdijusto1      |\n",
      "|    2    |      natalya_ivanova      |\n",
      "|    3    |       justineittreim      |\n",
      "|    4    |           ronmay          |\n",
      "|    5    |         paulstock         |\n",
      "|    6    |          boyarsky         |\n",
      "|    7    |           barak           |\n",
      "|    8    |        alexjeffrey        |\n",
      "|    9    | celsoagustinhernandezdiaz |\n",
      "|    10   |       vadimsolomonik      |\n",
      "+---------+---------------------------+\n",
      "[10 rows x 2 columns]\n",
      "\n"
     ]
    }
   ],
   "source": [
    "print users.head()"
   ]
  },
  {
   "cell_type": "code",
   "execution_count": 23,
   "metadata": {
    "collapsed": false
   },
   "outputs": [
    {
     "name": "stdout",
     "output_type": "stream",
     "text": [
      "+---------+-----------+--------+\n",
      "| user_id | course_id | rating |\n",
      "+---------+-----------+--------+\n",
      "|    1    |     1     |  5.0   |\n",
      "|    2    |     1     |  5.0   |\n",
      "|    3    |     1     |  5.0   |\n",
      "|    4    |     1     |  5.0   |\n",
      "|    5    |     1     |  5.0   |\n",
      "|    6    |     1     |  5.0   |\n",
      "|    7    |     1     |  5.0   |\n",
      "|    8    |     1     |  5.0   |\n",
      "|    9    |     1     |  5.0   |\n",
      "|    10   |     1     |  5.0   |\n",
      "+---------+-----------+--------+\n",
      "[10 rows x 3 columns]\n",
      "\n"
     ]
    }
   ],
   "source": [
    "print ratings.head()"
   ]
  },
  {
   "cell_type": "code",
   "execution_count": 21,
   "metadata": {
    "collapsed": false
   },
   "outputs": [
    {
     "name": "stdout",
     "output_type": "stream",
     "text": [
      "+-----------+-------------------------------+------------+------------------+\n",
      "| course_id |             title             | avg_rating |     workload     |\n",
      "+-----------+-------------------------------+------------+------------------+\n",
      "|     1     | An Introduction to Interac... |    4.9     | 7-10 hours/week  |\n",
      "|     2     | Modern &amp; Contemporary ... |    4.9     |  5-9 hours/week  |\n",
      "|     3     | A Beginner&#39;s Guide to ... |    4.9     | 7-10 hours/week  |\n",
      "|     4     | Design: Creation of Artifa... |    4.9     | 5-10 hours/week  |\n",
      "|     5     |   Greek and Roman Mythology   |    4.9     | 8-10 hours/week  |\n",
      "|     6     | CS188.1x Artificial Intell... |    4.9     |       TBA        |\n",
      "|     7     |        Machine Learning       |    4.8     |  5-7 hours/week  |\n",
      "|     8     |  The Fiction of Relationship  |    4.8     | 12-15 hours/week |\n",
      "|     9     |   Calculus: Single Variable   |    4.8     | 10-12 hours/week |\n",
      "|     10    |     Programming Languages     |    4.8     | 8-16 hours/week  |\n",
      "+-----------+-------------------------------+------------+------------------+\n",
      "+----------------------------+-------------+----------+\n",
      "|         university         |  difficulty | provider |\n",
      "+----------------------------+-------------+----------+\n",
      "|      Rice University       |    Medium   | coursera |\n",
      "| University of Pennsylvania | Easy/medium | coursera |\n",
      "|      Duke University       |    Medium   | coursera |\n",
      "| University of Pennsylvania |    Medium   | coursera |\n",
      "| University of Pennsylvania |    Medium   | coursera |\n",
      "|        UC Berkeley         | Medium/hard |   edx    |\n",
      "|    Stanford University     |    Medium   | coursera |\n",
      "|      Brown University      | Medium/hard | coursera |\n",
      "| University of Pennsylvania | Medium/hard | coursera |\n",
      "|  University of Washington  | Medium/hard | coursera |\n",
      "+----------------------------+-------------+----------+\n",
      "[10 rows x 7 columns]\n",
      "\n"
     ]
    }
   ],
   "source": [
    "print courses.head()"
   ]
  },
  {
   "cell_type": "code",
   "execution_count": 28,
   "metadata": {
    "collapsed": true
   },
   "outputs": [],
   "source": [
    "course_rating = ratings.join(courses, on = 'course_id')"
   ]
  },
  {
   "cell_type": "code",
   "execution_count": null,
   "metadata": {
    "collapsed": false
   },
   "outputs": [],
   "source": [
    "print course_rating.head()"
   ]
  },
  {
   "cell_type": "code",
   "execution_count": 30,
   "metadata": {
    "collapsed": false
   },
   "outputs": [
    {
     "data": {
      "text/plain": [
       "2773"
      ]
     },
     "execution_count": 30,
     "metadata": {},
     "output_type": "execute_result"
    }
   ],
   "source": [
    "len(course_rating)"
   ]
  },
  {
   "cell_type": "code",
   "execution_count": 34,
   "metadata": {
    "collapsed": false
   },
   "outputs": [],
   "source": [
    "course_talk = course_rating.join(users,on='user_id')"
   ]
  },
  {
   "cell_type": "code",
   "execution_count": 43,
   "metadata": {
    "collapsed": false
   },
   "outputs": [
    {
     "name": "stdout",
     "output_type": "stream",
     "text": [
      "+---------+-----------+--------+-------------------------------+------------+\n",
      "| user_id | course_id | rating |             title             | avg_rating |\n",
      "+---------+-----------+--------+-------------------------------+------------+\n",
      "|    1    |     1     |  5.0   | An Introduction to Interac... |    4.9     |\n",
      "|    2    |     1     |  5.0   | An Introduction to Interac... |    4.9     |\n",
      "|    3    |     1     |  5.0   | An Introduction to Interac... |    4.9     |\n",
      "|    4    |     1     |  5.0   | An Introduction to Interac... |    4.9     |\n",
      "|    5    |     1     |  5.0   | An Introduction to Interac... |    4.9     |\n",
      "|    6    |     1     |  5.0   | An Introduction to Interac... |    4.9     |\n",
      "|    7    |     1     |  5.0   | An Introduction to Interac... |    4.9     |\n",
      "|    8    |     1     |  5.0   | An Introduction to Interac... |    4.9     |\n",
      "|    9    |     1     |  5.0   | An Introduction to Interac... |    4.9     |\n",
      "|    10   |     1     |  5.0   | An Introduction to Interac... |    4.9     |\n",
      "+---------+-----------+--------+-------------------------------+------------+\n",
      "+-----------------+-----------------+------------+----------+\n",
      "|     workload    |    university   | difficulty | provider |\n",
      "+-----------------+-----------------+------------+----------+\n",
      "| 7-10 hours/week | Rice University |   Medium   | coursera |\n",
      "| 7-10 hours/week | Rice University |   Medium   | coursera |\n",
      "| 7-10 hours/week | Rice University |   Medium   | coursera |\n",
      "| 7-10 hours/week | Rice University |   Medium   | coursera |\n",
      "| 7-10 hours/week | Rice University |   Medium   | coursera |\n",
      "| 7-10 hours/week | Rice University |   Medium   | coursera |\n",
      "| 7-10 hours/week | Rice University |   Medium   | coursera |\n",
      "| 7-10 hours/week | Rice University |   Medium   | coursera |\n",
      "| 7-10 hours/week | Rice University |   Medium   | coursera |\n",
      "| 7-10 hours/week | Rice University |   Medium   | coursera |\n",
      "+-----------------+-----------------+------------+----------+\n",
      "+---------------------------+\n",
      "|          username         |\n",
      "+---------------------------+\n",
      "|      patrickdijusto1      |\n",
      "|      natalya_ivanova      |\n",
      "|       justineittreim      |\n",
      "|           ronmay          |\n",
      "|         paulstock         |\n",
      "|          boyarsky         |\n",
      "|           barak           |\n",
      "|        alexjeffrey        |\n",
      "| celsoagustinhernandezdiaz |\n",
      "|       vadimsolomonik      |\n",
      "+---------------------------+\n",
      "[10 rows x 10 columns]\n",
      "\n"
     ]
    }
   ],
   "source": [
    "print course_talk.head()"
   ]
  },
  {
   "cell_type": "code",
   "execution_count": 46,
   "metadata": {
    "collapsed": false
   },
   "outputs": [],
   "source": [
    "mean_ratings = course_talk.groupby(key_columns = 'provider',\n",
    "                                  operations={'mean_rating': agg.MEAN('rating')})"
   ]
  },
  {
   "cell_type": "code",
   "execution_count": 47,
   "metadata": {
    "collapsed": false
   },
   "outputs": [
    {
     "name": "stdout",
     "output_type": "stream",
     "text": [
      "+--------------+---------------+\n",
      "|   provider   |  mean_rating  |\n",
      "+--------------+---------------+\n",
      "|    novoed    |    3.28125    |\n",
      "| khanacademy  |      4.0      |\n",
      "|     None     |     4.5625    |\n",
      "|   udacity    | 4.24107142857 |\n",
      "| mruniversity |      3.25     |\n",
      "|   coursera   | 4.52783547985 |\n",
      "|  open2study  | 4.08333333333 |\n",
      "|  codecademy  |      4.45     |\n",
      "|    udemy     |      4.2      |\n",
      "|     edx      | 4.49162011173 |\n",
      "+--------------+---------------+\n",
      "[10 rows x 2 columns]\n",
      "\n"
     ]
    }
   ],
   "source": [
    "print mean_ratings"
   ]
  },
  {
   "cell_type": "code",
   "execution_count": 53,
   "metadata": {
    "collapsed": false
   },
   "outputs": [],
   "source": [
    "ratings_by_title = course_talk.groupby(key_columns ='title',\n",
    "                                       operations = {'count':agg.COUNT()})"
   ]
  },
  {
   "cell_type": "code",
   "execution_count": 58,
   "metadata": {
    "collapsed": false
   },
   "outputs": [
    {
     "name": "stdout",
     "output_type": "stream",
     "text": [
      "+-------------------------------+-------+\n",
      "|             title             | count |\n",
      "+-------------------------------+-------+\n",
      "| A New History for a New Ch... |   2   |\n",
      "| Health Informatics in the ... |   1   |\n",
      "| Property and Liability: An... |   5   |\n",
      "| 2.01x: Elements of Structures |   2   |\n",
      "|           Algorithms          |   2   |\n",
      "|         Model Thinking        |   32  |\n",
      "|   Calculus: Single Variable   |   24  |\n",
      "| Introductory Human Physiology |   2   |\n",
      "| Health for All Through Pri... |   1   |\n",
      "|  Synapses, Neurons and Brains |   5   |\n",
      "+-------------------------------+-------+\n",
      "[10 rows x 2 columns]\n",
      "\n"
     ]
    }
   ],
   "source": [
    "print ratings_by_title.head()"
   ]
  },
  {
   "cell_type": "code",
   "execution_count": 66,
   "metadata": {
    "collapsed": true
   },
   "outputs": [],
   "source": [
    "active_titles = ratings_by_title[ratings_by_title['count'] >=20]['title']"
   ]
  },
  {
   "cell_type": "code",
   "execution_count": 67,
   "metadata": {
    "collapsed": false,
    "scrolled": true
   },
   "outputs": [
    {
     "data": {
      "text/plain": [
       "28"
      ]
     },
     "execution_count": 67,
     "metadata": {},
     "output_type": "execute_result"
    }
   ],
   "source": [
    "len(active_titles)"
   ]
  },
  {
   "cell_type": "code",
   "execution_count": 68,
   "metadata": {
    "collapsed": false
   },
   "outputs": [
    {
     "name": "stdout",
     "output_type": "stream",
     "text": [
      "['Model Thinking', 'Calculus: Single Variable', 'Learn to Program: Crafting Quality Code', 'The Modern World: Global History since 1760', 'Learn to Program: The Fundamentals', 'Design: Creation of Artifacts in Society', '6.00x: Introduction to Computer Science and Programming', 'Machine Learning', 'An Introduction to Interactive Programming in Python', 'Introduction to Computer Science', 'Web Intelligence and Big Data', 'Gamification', 'Fantasy and Science Fiction: The Human Mind, Our Modern World', 'Cryptography I', 'Greek and Roman Mythology', 'Critical Thinking in Global Challenges', 'Internet History, Technology, and Security', 'Functional Programming Principles in Scala', 'Introduction to Data Science', 'Modern &amp; Contemporary American Poetry', 'Computing for Data Analysis', 'An Introduction to Operations Management', 'CS188.1x Artificial Intelligence', 'Programming Languages', 'CS-191x: Quantum Mechanics and Quantum Computation', 'A Beginner&#39;s Guide to Irrational Behavior', 'Discrete Optimization', 'Introduction to Finance']\n"
     ]
    }
   ],
   "source": [
    "print(active_titles[0:28])"
   ]
  },
  {
   "cell_type": "code",
   "execution_count": 76,
   "metadata": {
    "collapsed": true
   },
   "outputs": [],
   "source": [
    "mean_ratings = course_talk.groupby(key_columns = 'title',\n",
    "                                  operations={'mean_rating': agg.MEAN('rating')})"
   ]
  },
  {
   "cell_type": "code",
   "execution_count": 77,
   "metadata": {
    "collapsed": false
   },
   "outputs": [
    {
     "data": {
      "text/html": [
       "<div style=\"max-height:1000px;max-width:1500px;overflow:auto;\"><table frame=\"box\" rules=\"cols\">\n",
       "    <tr>\n",
       "        <th style=\"padding-left: 1em; padding-right: 1em; text-align: center\">title</th>\n",
       "        <th style=\"padding-left: 1em; padding-right: 1em; text-align: center\">mean_rating</th>\n",
       "    </tr>\n",
       "    <tr>\n",
       "        <td style=\"padding-left: 1em; padding-right: 1em; text-align: center; vertical-align: top\">A New History for a New<br>China, 1700-2000: New ...</td>\n",
       "        <td style=\"padding-left: 1em; padding-right: 1em; text-align: center; vertical-align: top\">0.5</td>\n",
       "    </tr>\n",
       "    <tr>\n",
       "        <td style=\"padding-left: 1em; padding-right: 1em; text-align: center; vertical-align: top\">Health Informatics in the<br>Cloud ...</td>\n",
       "        <td style=\"padding-left: 1em; padding-right: 1em; text-align: center; vertical-align: top\">4.0</td>\n",
       "    </tr>\n",
       "    <tr>\n",
       "        <td style=\"padding-left: 1em; padding-right: 1em; text-align: center; vertical-align: top\">Property and Liability:<br>An Introduction to Law ...</td>\n",
       "        <td style=\"padding-left: 1em; padding-right: 1em; text-align: center; vertical-align: top\">2.8</td>\n",
       "    </tr>\n",
       "    <tr>\n",
       "        <td style=\"padding-left: 1em; padding-right: 1em; text-align: center; vertical-align: top\">2.01x: Elements of<br>Structures ...</td>\n",
       "        <td style=\"padding-left: 1em; padding-right: 1em; text-align: center; vertical-align: top\">4.75</td>\n",
       "    </tr>\n",
       "    <tr>\n",
       "        <td style=\"padding-left: 1em; padding-right: 1em; text-align: center; vertical-align: top\">Algorithms</td>\n",
       "        <td style=\"padding-left: 1em; padding-right: 1em; text-align: center; vertical-align: top\">4.25</td>\n",
       "    </tr>\n",
       "    <tr>\n",
       "        <td style=\"padding-left: 1em; padding-right: 1em; text-align: center; vertical-align: top\">Model Thinking</td>\n",
       "        <td style=\"padding-left: 1em; padding-right: 1em; text-align: center; vertical-align: top\">4.578125</td>\n",
       "    </tr>\n",
       "    <tr>\n",
       "        <td style=\"padding-left: 1em; padding-right: 1em; text-align: center; vertical-align: top\">Calculus: Single Variable</td>\n",
       "        <td style=\"padding-left: 1em; padding-right: 1em; text-align: center; vertical-align: top\">4.85416666667</td>\n",
       "    </tr>\n",
       "    <tr>\n",
       "        <td style=\"padding-left: 1em; padding-right: 1em; text-align: center; vertical-align: top\">Introductory Human<br>Physiology ...</td>\n",
       "        <td style=\"padding-left: 1em; padding-right: 1em; text-align: center; vertical-align: top\">4.0</td>\n",
       "    </tr>\n",
       "    <tr>\n",
       "        <td style=\"padding-left: 1em; padding-right: 1em; text-align: center; vertical-align: top\">Health for All Through<br>Primary Health Care ...</td>\n",
       "        <td style=\"padding-left: 1em; padding-right: 1em; text-align: center; vertical-align: top\">2.5</td>\n",
       "    </tr>\n",
       "    <tr>\n",
       "        <td style=\"padding-left: 1em; padding-right: 1em; text-align: center; vertical-align: top\">Synapses, Neurons and<br>Brains ...</td>\n",
       "        <td style=\"padding-left: 1em; padding-right: 1em; text-align: center; vertical-align: top\">4.6</td>\n",
       "    </tr>\n",
       "</table>\n",
       "[211 rows x 2 columns]<br/>Note: Only the head of the SFrame is printed.<br/>You can use print_rows(num_rows=m, num_columns=n) to print more rows and columns.\n",
       "</div>"
      ],
      "text/plain": [
       "Columns:\n",
       "\ttitle\tstr\n",
       "\tmean_rating\tfloat\n",
       "\n",
       "Rows: 211\n",
       "\n",
       "Data:\n",
       "+-------------------------------+---------------+\n",
       "|             title             |  mean_rating  |\n",
       "+-------------------------------+---------------+\n",
       "| A New History for a New Ch... |      0.5      |\n",
       "| Health Informatics in the ... |      4.0      |\n",
       "| Property and Liability: An... |      2.8      |\n",
       "| 2.01x: Elements of Structures |      4.75     |\n",
       "|           Algorithms          |      4.25     |\n",
       "|         Model Thinking        |    4.578125   |\n",
       "|   Calculus: Single Variable   | 4.85416666667 |\n",
       "| Introductory Human Physiology |      4.0      |\n",
       "| Health for All Through Pri... |      2.5      |\n",
       "|  Synapses, Neurons and Brains |      4.6      |\n",
       "+-------------------------------+---------------+\n",
       "[211 rows x 2 columns]\n",
       "Note: Only the head of the SFrame is printed.\n",
       "You can use print_rows(num_rows=m, num_columns=n) to print more rows and columns."
      ]
     },
     "execution_count": 77,
     "metadata": {},
     "output_type": "execute_result"
    }
   ],
   "source": [
    "mean_ratings"
   ]
  },
  {
   "cell_type": "code",
   "execution_count": 111,
   "metadata": {
    "collapsed": false
   },
   "outputs": [
    {
     "data": {
      "text/plain": [
       "graphlab.data_structures.sarray.SArray"
      ]
     },
     "execution_count": 111,
     "metadata": {},
     "output_type": "execute_result"
    }
   ],
   "source": [
    "fin_data = graphlab.SFrame(data = {'title':\"\",\"mean_rating\":\"\"})\n",
    "type(fin_data['title'])"
   ]
  },
  {
   "cell_type": "code",
   "execution_count": 90,
   "metadata": {
    "collapsed": false
   },
   "outputs": [
    {
     "name": "stdout",
     "output_type": "stream",
     "text": [
      "['Model Thinking', 'Calculus: Single Variable', 'Learn to Program: Crafting Quality Code', 'The Modern World: Global History since 1760', 'Learn to Program: The Fundamentals', 'Design: Creation of Artifacts in Society', '6.00x: Introduction to Computer Science and Programming', 'Machine Learning', 'An Introduction to Interactive Programming in Python', 'Introduction to Computer Science', 'Web Intelligence and Big Data', 'Gamification', 'Fantasy and Science Fiction: The Human Mind, Our Modern World', 'Cryptography I', 'Greek and Roman Mythology', 'Critical Thinking in Global Challenges', 'Internet History, Technology, and Security', 'Functional Programming Principles in Scala', 'Introduction to Data Science', 'Modern &amp; Contemporary American Poetry', 'Computing for Data Analysis', 'An Introduction to Operations Management', 'CS188.1x Artificial Intelligence', 'Programming Languages', 'CS-191x: Quantum Mechanics and Quantum Computation', 'A Beginner&#39;s Guide to Irrational Behavior', 'Discrete Optimization', 'Introduction to Finance']\n"
     ]
    }
   ],
   "source": [
    "print active_titles"
   ]
  },
  {
   "cell_type": "code",
   "execution_count": 103,
   "metadata": {
    "collapsed": false
   },
   "outputs": [
    {
     "name": "stdout",
     "output_type": "stream",
     "text": [
      "<class 'graphlab.data_structures.sframe.SFrame'>\n"
     ]
    }
   ],
   "source": [
    "print type( fin_data)"
   ]
  },
  {
   "cell_type": "code",
   "execution_count": 116,
   "metadata": {
    "collapsed": false
   },
   "outputs": [],
   "source": [
    "fin_data = mean_ratings.filter_by(active_titles,'title',exclude = False)"
   ]
  },
  {
   "cell_type": "code",
   "execution_count": 118,
   "metadata": {
    "collapsed": false
   },
   "outputs": [
    {
     "name": "stdout",
     "output_type": "stream",
     "text": [
      "+-------------------------------+---------------+\n",
      "|             title             |  mean_rating  |\n",
      "+-------------------------------+---------------+\n",
      "| An Introduction to Interac... | 4.91565217391 |\n",
      "| Modern &amp; Contemporary ... | 4.90151515152 |\n",
      "| Design: Creation of Artifa... | 4.87958115183 |\n",
      "| A Beginner&#39;s Guide to ... | 4.87414965986 |\n",
      "|   Greek and Roman Mythology   | 4.86419753086 |\n",
      "|   Calculus: Single Variable   | 4.85416666667 |\n",
      "| CS188.1x Artificial Intell... | 4.83333333333 |\n",
      "|        Machine Learning       |      4.83     |\n",
      "| Functional Programming Pri... | 4.82258064516 |\n",
      "|          Gamification         |  4.7962962963 |\n",
      "+-------------------------------+---------------+\n",
      "[28 rows x 2 columns]\n",
      "Note: Only the head of the SFrame is printed.\n",
      "You can use print_rows(num_rows=m, num_columns=n) to print more rows and columns.\n"
     ]
    }
   ],
   "source": [
    "print fin_data.sort('mean_rating',ascending = False)"
   ]
  },
  {
   "cell_type": "code",
   "execution_count": 120,
   "metadata": {
    "collapsed": false
   },
   "outputs": [
    {
     "name": "stdout",
     "output_type": "stream",
     "text": [
      "+-------------------------------+---------------+\n",
      "|             title             |  mean_rating  |\n",
      "+-------------------------------+---------------+\n",
      "| An Introduction to Interac... | 4.91565217391 |\n",
      "| Modern &amp; Contemporary ... | 4.90151515152 |\n",
      "| Design: Creation of Artifa... | 4.87958115183 |\n",
      "| A Beginner&#39;s Guide to ... | 4.87414965986 |\n",
      "|   Greek and Roman Mythology   | 4.86419753086 |\n",
      "|   Calculus: Single Variable   | 4.85416666667 |\n",
      "| CS188.1x Artificial Intell... | 4.83333333333 |\n",
      "|        Machine Learning       |      4.83     |\n",
      "| Functional Programming Pri... | 4.82258064516 |\n",
      "|          Gamification         |  4.7962962963 |\n",
      "| An Introduction to Operati... | 4.78571428571 |\n",
      "| The Modern World: Global H... | 4.77586206897 |\n",
      "|     Programming Languages     | 4.77083333333 |\n",
      "| CS-191x: Quantum Mechanics... | 4.72727272727 |\n",
      "|         Cryptography I        |      4.7      |\n",
      "|     Discrete Optimization     | 4.69565217391 |\n",
      "| Introduction to Computer S... |     4.6875    |\n",
      "| Learn to Program: Crafting... | 4.58571428571 |\n",
      "|         Model Thinking        |    4.578125   |\n",
      "| Internet History, Technolo... | 4.54166666667 |\n",
      "| Fantasy and Science Fictio... | 4.52272727273 |\n",
      "| Learn to Program: The Fund... | 4.30357142857 |\n",
      "| 6.00x: Introduction to Com... | 4.16666666667 |\n",
      "| Critical Thinking in Globa... | 3.96153846154 |\n",
      "| Web Intelligence and Big Data |  3.8023255814 |\n",
      "|  Computing for Data Analysis  |     3.1875    |\n",
      "|    Introduction to Finance    | 3.08695652174 |\n",
      "|  Introduction to Data Science |      3.06     |\n",
      "+-------------------------------+---------------+\n",
      "[28 rows x 2 columns]\n",
      "\n"
     ]
    }
   ],
   "source": [
    "fin_data.sort('mean_rating',ascending = False).print_rows(num_rows = 28)"
   ]
  },
  {
   "cell_type": "code",
   "execution_count": null,
   "metadata": {
    "collapsed": true
   },
   "outputs": [],
   "source": [
    "mean_ratings = course_talk.groupby()"
   ]
  }
 ],
 "metadata": {
  "kernelspec": {
   "display_name": "Python [gl-env]",
   "language": "python",
   "name": "Python [gl-env]"
  },
  "language_info": {
   "codemirror_mode": {
    "name": "ipython",
    "version": 2
   },
   "file_extension": ".py",
   "mimetype": "text/x-python",
   "name": "python",
   "nbconvert_exporter": "python",
   "pygments_lexer": "ipython2",
   "version": "2.7.12"
  }
 },
 "nbformat": 4,
 "nbformat_minor": 0
}
